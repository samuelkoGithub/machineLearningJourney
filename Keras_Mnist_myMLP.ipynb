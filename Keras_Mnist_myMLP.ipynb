{
  "nbformat": 4,
  "nbformat_minor": 0,
  "metadata": {
    "colab": {
      "name": "Keras_Mnist_myMLP.ipynb",
      "provenance": [],
      "collapsed_sections": [],
      "authorship_tag": "ABX9TyNgXalx5I6EhP25I5OcQ0Sw",
      "include_colab_link": true
    },
    "kernelspec": {
      "name": "python3",
      "display_name": "Python 3"
    },
    "language_info": {
      "name": "python"
    }
  },
  "cells": [
    {
      "cell_type": "markdown",
      "metadata": {
        "id": "view-in-github",
        "colab_type": "text"
      },
      "source": [
        "<a href=\"https://colab.research.google.com/github/samuelkoGithub/machineLearningJourney/blob/main/Keras_Mnist_myMLP.ipynb\" target=\"_parent\"><img src=\"https://colab.research.google.com/assets/colab-badge.svg\" alt=\"Open In Colab\"/></a>"
      ]
    },
    {
      "cell_type": "code",
      "execution_count": null,
      "metadata": {
        "colab": {
          "base_uri": "https://localhost:8080/",
          "height": 911
        },
        "id": "1RcAlr27JDif",
        "outputId": "38fe2ddf-f87f-4e9b-80c7-689a91f224d5"
      },
      "outputs": [
        {
          "output_type": "stream",
          "name": "stdout",
          "text": [
            "Epoch 1/10\n",
            "240/240 - 2s - loss: 0.4390 - accuracy: 0.8835 - val_loss: 0.2222 - val_accuracy: 0.9382 - 2s/epoch - 8ms/step\n",
            "Epoch 2/10\n",
            "240/240 - 1s - loss: 0.1892 - accuracy: 0.9472 - val_loss: 0.1525 - val_accuracy: 0.9568 - 1s/epoch - 5ms/step\n",
            "Epoch 3/10\n",
            "240/240 - 1s - loss: 0.1344 - accuracy: 0.9619 - val_loss: 0.1292 - val_accuracy: 0.9632 - 1s/epoch - 5ms/step\n",
            "Epoch 4/10\n",
            "240/240 - 1s - loss: 0.1021 - accuracy: 0.9708 - val_loss: 0.1078 - val_accuracy: 0.9682 - 1s/epoch - 5ms/step\n",
            "Epoch 5/10\n",
            "240/240 - 1s - loss: 0.0817 - accuracy: 0.9770 - val_loss: 0.1030 - val_accuracy: 0.9703 - 1s/epoch - 5ms/step\n",
            "Epoch 6/10\n",
            "240/240 - 1s - loss: 0.0658 - accuracy: 0.9815 - val_loss: 0.0918 - val_accuracy: 0.9726 - 1s/epoch - 6ms/step\n",
            "Epoch 7/10\n",
            "240/240 - 1s - loss: 0.0543 - accuracy: 0.9845 - val_loss: 0.0837 - val_accuracy: 0.9753 - 1s/epoch - 5ms/step\n",
            "Epoch 8/10\n",
            "240/240 - 1s - loss: 0.0452 - accuracy: 0.9879 - val_loss: 0.0806 - val_accuracy: 0.9763 - 1s/epoch - 6ms/step\n",
            "Epoch 9/10\n",
            "240/240 - 1s - loss: 0.0373 - accuracy: 0.9899 - val_loss: 0.0833 - val_accuracy: 0.9751 - 1s/epoch - 5ms/step\n",
            "Epoch 10/10\n",
            "240/240 - 1s - loss: 0.0320 - accuracy: 0.9921 - val_loss: 0.0801 - val_accuracy: 0.9763 - 1s/epoch - 5ms/step\n",
            "313/313 [==============================] - 1s 2ms/step - loss: 0.0704 - accuracy: 0.9782\n",
            "\n",
            "準確率= 0.9782000184059143\n",
            "\n",
            " Prediction= [[0. 0. 0. ... 1. 0. 0.]\n",
            " [0. 0. 1. ... 0. 0. 0.]\n",
            " [0. 1. 0. ... 0. 0. 0.]\n",
            " ...\n",
            " [0. 0. 0. ... 0. 0. 0.]\n",
            " [0. 0. 0. ... 0. 0. 0.]\n",
            " [0. 0. 0. ... 0. 0. 0.]]\n",
            "\n",
            "\n"
          ]
        },
        {
          "output_type": "display_data",
          "data": {
            "text/plain": [
              "<Figure size 864x1008 with 10 Axes>"
            ],
            "image/png": "[encoded data removed]"
          },
          "metadata": {}
        }
      ],
      "source": [
        "import numpy as np\n",
        "from keras.utils import np_utils\n",
        "np.random.seed(10)\n",
        "from keras.datasets import mnist\n",
        "import matplotlib.pyplot as plt\n",
        "from keras.models import Sequential\n",
        "from keras.layers import Dense\n",
        "\n",
        "def show_image(image):\n",
        "    fig = plt.gcf()\n",
        "    fig.set_size_inches(2, 2)\n",
        "    plt.imshow(image, cmap='binary')\n",
        "    plt.show() \n",
        "\n",
        "def show_images_labels_predictions(images,labels,\n",
        "                                  predictions,start_id,num=10):\n",
        "    plt.gcf().set_size_inches(12, 14)\n",
        "    if num>25: num=25 \n",
        "    for i in range(0, num):\n",
        "        ax=plt.subplot(5,5, 1+i)\n",
        "        #顯示黑白圖片\n",
        "        ax.imshow(images[start_id], cmap='binary')\n",
        "        \n",
        "#---------------- Modified by Samuel KO - 18 March 2022 ------------------------   \n",
        "       # 有 AI 預測結果資料, 才在標題顯示預測結果\n",
        "        if( len(predictions) > 0 ) :\n",
        "            #title = 'ai = ' + str(predictions[i])\n",
        "            title = 'ai = '+ str(predictions[i].tolist().index(1))\n",
        "            # 預測正確顯示(o), 錯誤顯示(x)\n",
        "            title += (' (o)' if predictions[i].any() == labels[i].any() else ' (x)') \n",
        "            title += '\\nlabel = ' + str(labels[i])\n",
        "        # 沒有 AI 預測結果資料, 只在標題顯示真實數值\n",
        "        else :\n",
        "            title = 'label = ' + str(labels[i])\n",
        "     \n",
        "        # X, Y 軸不顯示刻度    \n",
        "        ax.set_title(title,fontsize=12) \n",
        "        ax.set_xticks([]);ax.set_yticks([])        \n",
        "        start_id+=1 \n",
        "#-------------------------------------------------------------------------------   \n",
        "    plt.show()\n",
        "\n",
        "#建立訓練資料和測試資料，包括訓練特徵集、訓練標籤和測試特徵集、測試標籤\t\n",
        "(train_feature, train_label),\\\n",
        "(test_feature, test_label) = mnist.load_data()\n",
        "\n",
        "#show_image(train_feature[0]) \n",
        "#show_images_labels_predictions(train_feature,train_label,[],0,10)    \n",
        "\n",
        "#將 Features 特徵值換為 784個 float 數字的 1 維向量\n",
        "train_feature_vector =train_feature.reshape(len(train_feature), 784).astype('float32')\n",
        "test_feature_vector = test_feature.reshape(len( test_feature), 784).astype('float32')\n",
        "\n",
        "#Features 特徵值標準化\n",
        "train_feature_normalize = train_feature_vector/255\n",
        "test_feature_normalize = test_feature_vector/255\n",
        "\n",
        "#label 轉換為 One-Hot Encoding 編碼\n",
        "train_label_onehot = np_utils.to_categorical(train_label)\n",
        "test_label_onehot = np_utils.to_categorical(test_label)\n",
        "\n",
        "#建立模型\n",
        "model = Sequential()\n",
        "#輸入層：784, 隱藏層：256，輸出層：10\n",
        "model.add(Dense(units=256, \n",
        "                input_dim=784, \n",
        "                kernel_initializer='normal', \n",
        "                activation='relu'))\n",
        "model.add(Dense(units=10, \n",
        "                kernel_initializer='normal', \n",
        "                activation='softmax'))\n",
        "#定義訓練方式\n",
        "model.compile(loss='categorical_crossentropy', \n",
        "              optimizer='adam', metrics=['accuracy'])\n",
        "\n",
        "#以(train_feature_normalize,train_label_onehot)資料訓練，\n",
        "#訓練資料保留 20% 作驗證,訓練10次、每批次讀取200筆資料，顯示簡易訓練過程\n",
        "train_history =model.fit(x=train_feature_normalize,\n",
        "                         y=train_label_onehot,validation_split=0.2, \n",
        "                         epochs=10, batch_size=200,verbose=2)\n",
        "\n",
        "#評估準確率\n",
        "scores = model.evaluate(test_feature_normalize, test_label_onehot)\n",
        "print('\\n準確率=',scores[1])\n",
        "\n",
        "#預測 --------------- Modified by Samuel KO on 18 March 2022 --------------------\n",
        "prediction = (model.predict(test_feature_normalize) > 0.5).astype(\"float32\")\n",
        "print('\\n Prediction=', prediction)\n",
        "print('\\n')\n",
        "#預測 ---------------------------------------------------------------------------\n",
        "\n",
        "#顯示圖像、預測值、真實值 \n",
        "show_images_labels_predictions(test_feature,test_label,prediction,0)"
      ]
    }
  ]
}