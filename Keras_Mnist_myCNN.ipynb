{
  "nbformat": 4,
  "nbformat_minor": 0,
  "metadata": {
    "colab": {
      "name": "Keras_Mnist_myCNN.ipynb",
      "provenance": [],
      "collapsed_sections": [],
      "authorship_tag": "ABX9TyOkWNfQbKFe7Jb4BUd9SEgW",
      "include_colab_link": true
    },
    "kernelspec": {
      "name": "python3",
      "display_name": "Python 3"
    },
    "language_info": {
      "name": "python"
    }
  },
  "cells": [
    {
      "cell_type": "markdown",
      "metadata": {
        "id": "view-in-github",
        "colab_type": "text"
      },
      "source": [
        "<a href=\"https://colab.research.google.com/github/samuelkoGithub/machineLearningJourney/blob/main/Keras_Mnist_myCNN.ipynb\" target=\"_parent\"><img src=\"https://colab.research.google.com/assets/colab-badge.svg\" alt=\"Open In Colab\"/></a>"
      ]
    },
    {
      "cell_type": "code",
      "execution_count": null,
      "metadata": {
        "colab": {
          "base_uri": "https://localhost:8080/",
          "height": 737
        },
        "id": "5s8DaQtUsGF0",
        "outputId": "3fcc758e-86e3-40b8-fc58-01516900a52d"
      },
      "outputs": [
        {
          "output_type": "stream",
          "name": "stdout",
          "text": [
            "Epoch 1/10\n",
            "240/240 - 23s - loss: 0.4196 - accuracy: 0.8759 - val_loss: 0.1115 - val_accuracy: 0.9683 - 23s/epoch - 98ms/step\n",
            "Epoch 2/10\n",
            "240/240 - 23s - loss: 0.1107 - accuracy: 0.9659 - val_loss: 0.0661 - val_accuracy: 0.9797 - 23s/epoch - 95ms/step\n",
            "Epoch 3/10\n",
            "240/240 - 23s - loss: 0.0770 - accuracy: 0.9760 - val_loss: 0.0583 - val_accuracy: 0.9833 - 23s/epoch - 95ms/step\n",
            "Epoch 4/10\n",
            "240/240 - 23s - loss: 0.0601 - accuracy: 0.9815 - val_loss: 0.0487 - val_accuracy: 0.9850 - 23s/epoch - 94ms/step\n",
            "Epoch 5/10\n",
            "240/240 - 23s - loss: 0.0525 - accuracy: 0.9824 - val_loss: 0.0456 - val_accuracy: 0.9869 - 23s/epoch - 94ms/step\n",
            "Epoch 6/10\n",
            "240/240 - 23s - loss: 0.0449 - accuracy: 0.9858 - val_loss: 0.0426 - val_accuracy: 0.9875 - 23s/epoch - 94ms/step\n",
            "Epoch 7/10\n",
            "240/240 - 23s - loss: 0.0402 - accuracy: 0.9872 - val_loss: 0.0429 - val_accuracy: 0.9871 - 23s/epoch - 96ms/step\n",
            "Epoch 8/10\n",
            "240/240 - 23s - loss: 0.0336 - accuracy: 0.9888 - val_loss: 0.0387 - val_accuracy: 0.9886 - 23s/epoch - 95ms/step\n",
            "Epoch 9/10\n",
            "240/240 - 23s - loss: 0.0316 - accuracy: 0.9894 - val_loss: 0.0429 - val_accuracy: 0.9877 - 23s/epoch - 94ms/step\n",
            "Epoch 10/10\n",
            "240/240 - 23s - loss: 0.0291 - accuracy: 0.9907 - val_loss: 0.0365 - val_accuracy: 0.9901 - 23s/epoch - 95ms/step\n",
            "313/313 [==============================] - 3s 8ms/step - loss: 0.0279 - accuracy: 0.9911\n",
            "\n",
            "準確率= 0.991100013256073\n"
          ]
        },
        {
          "output_type": "display_data",
          "data": {
            "text/plain": [
              "<Figure size 864x1008 with 10 Axes>"
            ],
            "image/png": "[encoded data removed]"
          },
          "metadata": {}
        }
      ],
      "source": [
        "import numpy as np\n",
        "from keras.utils import np_utils\n",
        "np.random.seed(10)\n",
        "from keras.datasets import mnist\n",
        "import matplotlib.pyplot as plt\n",
        "from keras.models import Sequential\n",
        "from keras.layers import Conv2D,MaxPooling2D,Dropout,Flatten,Dense\n",
        "\n",
        "def show_images_labels_predictions(images,labels,\n",
        "                                  predictions,start_id,num=10):\n",
        "    plt.gcf().set_size_inches(12, 14)\n",
        "    if num>25: num=25 \n",
        "    for i in range(0, num):\n",
        "        ax=plt.subplot(5,5, 1+i)\n",
        "        #顯示黑白圖片\n",
        "        ax.imshow(images[start_id], cmap='binary')\n",
        "        \n",
        "#---------------- Modified by Samuel KO - 19 March 2022 ------------------------\n",
        "#---------------- Update Tensorflow from 2.0 to 2.5 ----------------------------\n",
        "\n",
        "       # 有 AI 預測結果資料, 才在標題顯示預測結果\n",
        "        if( len(predictions) > 0 ) :\n",
        "            #title = 'ai = ' + str(predictions[i])\n",
        "            title = 'ai = '+ str(predictions[i].tolist().index(1))\n",
        "            # 預測正確顯示(o), 錯誤顯示(x)\n",
        "            title += (' (o)' if predictions[i].any() == labels[i].any() else ' (x)') \n",
        "            title += '\\nlabel = ' + str(labels[i])\n",
        "        # 沒有 AI 預測結果資料, 只在標題顯示真實數值\n",
        "        else :\n",
        "            title = 'label = ' + str(labels[i])\n",
        "     \n",
        "        # X, Y 軸不顯示刻度    \n",
        "        ax.set_title(title,fontsize=12) \n",
        "        ax.set_xticks([]);ax.set_yticks([])        \n",
        "        start_id+=1 \n",
        "#------------------------------------------------------------------------------- \n",
        "    plt.show()\n",
        "\n",
        "#建立訓練資料和測試資料，包括訓練特徵集、訓練標籤和測試特徵集、測試標籤\t\n",
        "(train_feature, train_label),\\\n",
        "(test_feature, test_label) = mnist.load_data()  \n",
        "\n",
        "#將 Features 特徵值換為 60000*28*28*1 的 4 維矩陣\n",
        "train_feature_vector =train_feature.reshape(len(train_feature), 28,28,1).astype('float32')\n",
        "test_feature_vector = test_feature.reshape(len( test_feature), 28,28,1).astype('float32')\n",
        "\n",
        "#Features 特徵值標準化\n",
        "train_feature_normalize = train_feature_vector/255\n",
        "test_feature_normalize = test_feature_vector/255\n",
        "\n",
        "#label 轉換為 One-Hot Encoding 編碼\n",
        "train_label_onehot = np_utils.to_categorical(train_label)\n",
        "test_label_onehot = np_utils.to_categorical(test_label)\n",
        "\n",
        "#建立模型\n",
        "model = Sequential()\n",
        "#建立卷積層1\n",
        "model.add(Conv2D(filters=10, \n",
        "                 kernel_size=(3,3),\n",
        "                 padding='same',\n",
        "                 input_shape=(28,28,1), \n",
        "                 activation='relu'))\n",
        "\n",
        "#建立池化層1\n",
        "model.add(MaxPooling2D(pool_size=(2, 2))) #(10,14,14)\n",
        "\n",
        "#建立卷積層2\n",
        "model.add(Conv2D(filters=20, \n",
        "                 kernel_size=(3,3),  \n",
        "                 padding='same',\n",
        "                 activation='relu'))\n",
        "\n",
        "#建立池化層2\n",
        "model.add(MaxPooling2D(pool_size=(2, 2))) #(20,7,7)\n",
        "\n",
        "# Dropout層防止過度擬合，斷開比例:0.2\n",
        "model.add(Dropout(0.2))\n",
        "\n",
        "#建立平坦層：20*7*7=980 個神經元\n",
        "model.add(Flatten()) \n",
        "\n",
        "#建立隱藏層\n",
        "model.add(Dense(units=256, activation='relu'))\n",
        "\n",
        "#建立輸出層\n",
        "model.add(Dense(units=10,activation='softmax'))\n",
        "\n",
        "#定義訓練方式\n",
        "model.compile(loss='categorical_crossentropy', \n",
        "              optimizer='adam', metrics=['accuracy'])\n",
        "\n",
        "#以(train_feature_normalize,train_label_onehot)資料訓練，\n",
        "#訓練資料保留 20% 作驗證,訓練10次、每批次讀取200筆資料，顯示簡易訓練過程\n",
        "train_history =model.fit(x=train_feature_normalize,\n",
        "                         y=train_label_onehot,validation_split=0.2, \n",
        "                         epochs=10, batch_size=200,verbose=2)\n",
        "\n",
        "#評估準確率\n",
        "scores = model.evaluate(test_feature_normalize, test_label_onehot)\n",
        "print('\\n準確率=',scores[1])\n",
        "print('\\n')\n",
        "#---------------- Update Tensorflow from 2.0 to 2.5 ----------------------------\n",
        "\n",
        "#預測\n",
        "#prediction=model.predict_classes(test_feature_normalize)\n",
        "prediction=(model.predict(test_feature_normalize) > 0.5).astype(\"float32\")\n",
        "\n",
        "#顯示圖像、預測值、真實值 \n",
        "show_images_labels_predictions(test_feature,test_label,prediction,0)"
      ]
    }
  ]
}